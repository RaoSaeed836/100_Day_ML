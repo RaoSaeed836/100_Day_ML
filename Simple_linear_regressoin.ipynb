{
  "nbformat": 4,
  "nbformat_minor": 0,
  "metadata": {
    "colab": {
      "provenance": [],
      "authorship_tag": "ABX9TyOxUQVjd+O1V6NLJabHl0Lt",
      "include_colab_link": true
    },
    "kernelspec": {
      "name": "python3",
      "display_name": "Python 3"
    },
    "language_info": {
      "name": "python"
    }
  },
  "cells": [
    {
      "cell_type": "markdown",
      "metadata": {
        "id": "view-in-github",
        "colab_type": "text"
      },
      "source": [
        "<a href=\"https://colab.research.google.com/github/RaoSaeed836/100_Day_ML/blob/main/Simple_linear_regressoin.ipynb\" target=\"_parent\"><img src=\"https://colab.research.google.com/assets/colab-badge.svg\" alt=\"Open In Colab\"/></a>"
      ]
    },
    {
      "cell_type": "code",
      "execution_count": null,
      "metadata": {
        "id": "PQJrl2SYAbxn"
      },
      "outputs": [],
      "source": [
        "import numpy as np\n",
        "import pandas as pd\n",
        "import matplotlib.pyplot as plt\n"
      ]
    },
    {
      "cell_type": "code",
      "source": [
        "df=pd.read_csv(\"/content/placement l.csv\")\n",
        "df"
      ],
      "metadata": {
        "id": "fSmRokVTAgdI"
      },
      "execution_count": null,
      "outputs": []
    },
    {
      "cell_type": "code",
      "source": [
        "plt.scatter(df['cgpa'],df['package'])\n",
        "plt.title(\"ddff\")\n",
        "plt.xlabel(\"cgpa\")\n",
        "plt.ylabel(\"pacahe\")"
      ],
      "metadata": {
        "id": "KnzImKEBAgZy"
      },
      "execution_count": null,
      "outputs": []
    },
    {
      "cell_type": "code",
      "source": [
        "x=df.iloc[:,0]\n",
        "y=df.iloc[:,-1]"
      ],
      "metadata": {
        "id": "n0prl-CFAgXo"
      },
      "execution_count": null,
      "outputs": []
    },
    {
      "cell_type": "code",
      "source": [
        "from sklearn.model_selection import train_test_split\n",
        "X_train,X_test,y_train,y_test=train_test_split(x,y,test_size=0.2,random_state=67)"
      ],
      "metadata": {
        "id": "Fo4HyKumAgUb"
      },
      "execution_count": null,
      "outputs": []
    },
    {
      "cell_type": "code",
      "source": [
        "from sklearn.linear_model import LinearRegression\n",
        "y_train"
      ],
      "metadata": {
        "id": "5fkhu1xAAgSY"
      },
      "execution_count": null,
      "outputs": []
    },
    {
      "cell_type": "code",
      "source": [
        "l=LinearRegression()"
      ],
      "metadata": {
        "id": "cWzzgk1NAgO2"
      },
      "execution_count": null,
      "outputs": []
    },
    {
      "cell_type": "code",
      "source": [
        "l.fit(X_train.values.reshape(-1, 1), y_train)"
      ],
      "metadata": {
        "id": "dCKmGqkhAgND"
      },
      "execution_count": null,
      "outputs": []
    },
    {
      "cell_type": "code",
      "source": [
        "l.predict(X_test.values.reshape(-1,1))"
      ],
      "metadata": {
        "id": "RI4jFGuhAzJH"
      },
      "execution_count": null,
      "outputs": []
    },
    {
      "cell_type": "code",
      "source": [
        "plt.scatter(df['cgpa'],df['package'])\n",
        "plt.plot(X_train,l.predict(X_train.values.reshape(-1, 1)),color='green')\n",
        "plt.title(\"ddff\")\n",
        "plt.xlabel(\"cgpa\")\n",
        "plt.ylabel(\"pacahe\")"
      ],
      "metadata": {
        "id": "7IVbLoLoAzHP"
      },
      "execution_count": null,
      "outputs": []
    },
    {
      "cell_type": "code",
      "source": [],
      "metadata": {
        "id": "c64RMK5MAzDc"
      },
      "execution_count": null,
      "outputs": []
    },
    {
      "cell_type": "code",
      "source": [],
      "metadata": {
        "id": "WdE5DMKNAzBP"
      },
      "execution_count": null,
      "outputs": []
    }
  ]
}